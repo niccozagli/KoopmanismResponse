{
 "cells": [
  {
   "cell_type": "code",
   "execution_count": 1,
   "id": "6aff5360",
   "metadata": {},
   "outputs": [],
   "source": [
    "from KoopmanismResponse.dynamical_systems.Models import one_dim_map\n",
    "from KoopmanismResponse.EDMD.EDMD import Edmd_Fourier\n",
    "from KoopmanismResponse.utils.data_processing import get_spectral_properties\n",
    "from matplotlib import pyplot as plt\n",
    "import numpy as np"
   ]
  },
  {
   "cell_type": "code",
   "execution_count": 2,
   "id": "bc178a15",
   "metadata": {},
   "outputs": [
    {
     "name": "stderr",
     "output_type": "stream",
     "text": [
      "100%|██████████| 500000/500000 [00:00<00:00, 510650.57it/s]\n"
     ]
    }
   ],
   "source": [
    "one_map = one_dim_map()\n",
    "one_map.set_random_initial_condition()\n",
    "one_map.M = 5* 10**5\n",
    "t, x = one_map.integrate()"
   ]
  },
  {
   "cell_type": "code",
   "execution_count": 3,
   "id": "00a167f7",
   "metadata": {},
   "outputs": [
    {
     "data": {
      "text/plain": [
       "Text(0.5, 0, 'x')"
      ]
     },
     "execution_count": 3,
     "metadata": {},
     "output_type": "execute_result"
    },
    {
     "data": {
      "image/png": "[encoded data removed]",
      "text/plain": [
       "<Figure size 640x480 with 1 Axes>"
      ]
     },
     "metadata": {},
     "output_type": "display_data"
    }
   ],
   "source": [
    "L = int( np.sqrt(len(x)) ) \n",
    "plt.hist(x,bins=L)\n",
    "plt.xlabel(\"x\")"
   ]
  },
  {
   "cell_type": "code",
   "execution_count": 4,
   "id": "ea8b5c45",
   "metadata": {},
   "outputs": [],
   "source": [
    "# Set the EDMD algorithm\n",
    "edmd = Edmd_Fourier()\n",
    "edmd.dimension = 1\n",
    "edmd.max_wave_vector = 30\n",
    "edmd._set_indices()"
   ]
  },
  {
   "cell_type": "code",
   "execution_count": null,
   "id": "a6274e35",
   "metadata": {},
   "outputs": [
    {
     "name": "stderr",
     "output_type": "stream",
     "text": [
      "  0%|          | 0/50 [00:00<?, ?it/s]"
     ]
    }
   ],
   "source": [
    "# Perform algorithm and get spectral properties\n",
    "K = edmd.perform_edmd(data=x)\n",
    "lambdas, V, W = get_spectral_properties(K)"
   ]
  },
  {
   "cell_type": "code",
   "execution_count": null,
   "id": "03c805d0",
   "metadata": {},
   "outputs": [],
   "source": [
    "lambdas_plot = lambdas[:11]\n",
    "fig, ax = plt.subplots()\n",
    "thetas = np.linspace(0,2*np.pi,100)\n",
    "ax.plot(np.cos(thetas),np.sin(thetas))\n",
    "ax.scatter(np.real(lambdas_plot), np.imag(lambdas_plot),color='r')\n",
    "ax.set_aspect('equal')"
   ]
  },
  {
   "cell_type": "code",
   "execution_count": null,
   "id": "02518ba4",
   "metadata": {},
   "outputs": [],
   "source": []
  },
  {
   "cell_type": "code",
   "execution_count": null,
   "id": "969f808e",
   "metadata": {},
   "outputs": [],
   "source": []
  }
 ],
 "metadata": {
  "kernelspec": {
   "display_name": ".venv",
   "language": "python",
   "name": "python3"
  },
  "language_info": {
   "codemirror_mode": {
    "name": "ipython",
    "version": 3
   },
   "file_extension": ".py",
   "mimetype": "text/x-python",
   "name": "python",
   "nbconvert_exporter": "python",
   "pygments_lexer": "ipython3",
   "version": "3.10.13"
  }
 },
 "nbformat": 4,
 "nbformat_minor": 5
}
