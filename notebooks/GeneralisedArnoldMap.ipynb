{
 "cells": [
  {
   "cell_type": "code",
   "execution_count": 1,
   "id": "c938e3d9",
   "metadata": {},
   "outputs": [],
   "source": [
    "from KoopmanismResponse.dynamical_systems.Models import Arnold_map\n",
    "import numpy as np\n",
    "from matplotlib import pyplot as plt"
   ]
  },
  {
   "cell_type": "code",
   "execution_count": 2,
   "id": "aa066d6f",
   "metadata": {},
   "outputs": [],
   "source": [
    "two_dim_map = Arnold_map()"
   ]
  },
  {
   "cell_type": "code",
   "execution_count": 3,
   "id": "9bb9719d",
   "metadata": {},
   "outputs": [
    {
     "name": "stderr",
     "output_type": "stream",
     "text": [
      "100%|██████████| 100000/100000 [00:01<00:00, 69764.64it/s]\n"
     ]
    }
   ],
   "source": [
    "two_dim_map.set_random_initial_condition()\n",
    "t, X = two_dim_map.integrate()"
   ]
  },
  {
   "cell_type": "code",
   "execution_count": null,
   "id": "c1e59638",
   "metadata": {},
   "outputs": [],
   "source": [
    "# rho0 , edges = np.histogramdd(X,bins=[200,200],density=True)\n",
    "\n",
    "# rho_plot = rho0.copy()\n",
    "# rho_plot[rho_plot < 10**(-4)] = np.nan\n",
    "# xedges , yedges = edges\n",
    "\n",
    "# # Coordinates for plotting (bin centers)\n",
    "# xcenters = (xedges[:-1] + xedges[1:]) / 2\n",
    "# ycenters = (yedges[:-1] + yedges[1:]) / 2\n",
    "# Xc, Yc = np.meshgrid(xcenters, ycenters, indexing='ij')\n",
    "\n",
    "# # Coordinates for plotting (bin centers)\n",
    "# xcenters = (xedges[:-1] + xedges[1:]) / 2\n",
    "# ycenters = (yedges[:-1] + yedges[1:]) / 2\n",
    "# Xc, Yc = np.meshgrid(xcenters, ycenters, indexing='ij')\n",
    "\n",
    "# # Plot\n",
    "# plt.figure(figsize=(6, 5))\n",
    "# plt.pcolormesh(Xc, Yc, rho_plot, cmap='inferno')\n",
    "# plt.colorbar(label='Invariant density')\n",
    "# plt.xlabel('x')\n",
    "# plt.ylabel('y')\n",
    "# plt.tight_layout()"
   ]
  },
  {
   "cell_type": "code",
   "execution_count": null,
   "id": "885c87d5",
   "metadata": {},
   "outputs": [],
   "source": [
    "\n",
    "\n"
   ]
  },
  {
   "cell_type": "code",
   "execution_count": null,
   "id": "32982f2b",
   "metadata": {},
   "outputs": [],
   "source": []
  }
 ],
 "metadata": {
  "kernelspec": {
   "display_name": ".venv",
   "language": "python",
   "name": "python3"
  },
  "language_info": {
   "codemirror_mode": {
    "name": "ipython",
    "version": 3
   },
   "file_extension": ".py",
   "mimetype": "text/x-python",
   "name": "python",
   "nbconvert_exporter": "python",
   "pygments_lexer": "ipython3",
   "version": "3.10.13"
  }
 },
 "nbformat": 4,
 "nbformat_minor": 5
}
